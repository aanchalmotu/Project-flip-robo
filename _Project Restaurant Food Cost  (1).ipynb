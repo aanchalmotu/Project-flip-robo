{
 "cells": [
  {
   "cell_type": "markdown",
   "id": "e38ed84c",
   "metadata": {},
   "source": [
    "#   Restaurant Food Cost"
   ]
  },
  {
   "cell_type": "raw",
   "id": "d8ea0011",
   "metadata": {},
   "source": [
    "Import Necessary Libraries"
   ]
  },
  {
   "cell_type": "code",
   "execution_count": 1,
   "id": "8ea9e1c6",
   "metadata": {},
   "outputs": [],
   "source": [
    "import pandas as pd\n"
   ]
  },
  {
   "cell_type": "code",
   "execution_count": 3,
   "id": "b4157955",
   "metadata": {},
   "outputs": [],
   "source": [
    "# Load train dataset\n",
    "train_df = pd.read_excel(\"https://github.com/FlipRoboTechnologies/ML-Datasets/raw/main/Restaurant%20Food%20Cost/Data_Train.xlsx\")\n",
    "\n",
    "# Load test dataset\n",
    "test_df = pd.read_excel(\"https://github.com/FlipRoboTechnologies/ML-Datasets/raw/main/Restaurant%20Food%20Cost/Data_Test.xlsx\")\n"
   ]
  },
  {
   "cell_type": "raw",
   "id": "dde2f6f4",
   "metadata": {},
   "source": [
    "Explore Train Dataset"
   ]
  },
  {
   "cell_type": "code",
   "execution_count": 4,
   "id": "362ac0e7",
   "metadata": {},
   "outputs": [
    {
     "name": "stdout",
     "output_type": "stream",
     "text": [
      "Train Dataset Head:\n",
      "               TITLE  RESTAURANT_ID  \\\n",
      "0      CASUAL DINING           9438   \n",
      "1  CASUAL DINING,BAR          13198   \n",
      "2      CASUAL DINING          10915   \n",
      "3        QUICK BITES           6346   \n",
      "4     DESSERT PARLOR          15387   \n",
      "\n",
      "                                     CUISINES  \\\n",
      "0                 Malwani, Goan, North Indian   \n",
      "1              Asian, Modern Indian, Japanese   \n",
      "2  North Indian, Chinese, Biryani, Hyderabadi   \n",
      "3                            Tibetan, Chinese   \n",
      "4                                    Desserts   \n",
      "\n",
      "                                     TIME     CITY        LOCALITY RATING  \\\n",
      "0  11am – 4pm, 7:30pm – 11:30pm (Mon-Sun)    Thane  Dombivali East    3.6   \n",
      "1                    6pm – 11pm (Mon-Sun)  Chennai       Ramapuram    4.2   \n",
      "2     11am – 3:30pm, 7pm – 11pm (Mon-Sun)  Chennai      Saligramam    3.8   \n",
      "3                 11:30am – 1am (Mon-Sun)   Mumbai     Bandra West    4.1   \n",
      "4                    11am – 1am (Mon-Sun)   Mumbai     Lower Parel    3.8   \n",
      "\n",
      "       VOTES  COST  \n",
      "0   49 votes  1200  \n",
      "1   30 votes  1500  \n",
      "2  221 votes   800  \n",
      "3   24 votes   800  \n",
      "4  165 votes   300  \n",
      "\n",
      "Train Dataset Information:\n",
      "<class 'pandas.core.frame.DataFrame'>\n",
      "RangeIndex: 12690 entries, 0 to 12689\n",
      "Data columns (total 9 columns):\n",
      " #   Column         Non-Null Count  Dtype \n",
      "---  ------         --------------  ----- \n",
      " 0   TITLE          12690 non-null  object\n",
      " 1   RESTAURANT_ID  12690 non-null  int64 \n",
      " 2   CUISINES       12690 non-null  object\n",
      " 3   TIME           12690 non-null  object\n",
      " 4   CITY           12578 non-null  object\n",
      " 5   LOCALITY       12592 non-null  object\n",
      " 6   RATING         12688 non-null  object\n",
      " 7   VOTES          11486 non-null  object\n",
      " 8   COST           12690 non-null  int64 \n",
      "dtypes: int64(2), object(7)\n",
      "memory usage: 892.4+ KB\n",
      "None\n",
      "\n",
      "Train Dataset Shape:\n",
      "(12690, 9)\n",
      "\n",
      "Train Dataset Summary Statistics:\n",
      "       RESTAURANT_ID          COST\n",
      "count   12690.000000  12690.000000\n",
      "mean     7759.134121    655.252246\n",
      "std      4504.874150    627.003540\n",
      "min         0.000000     20.000000\n",
      "25%      3863.250000    300.000000\n",
      "50%      7740.000000    500.000000\n",
      "75%     11688.750000    800.000000\n",
      "max     15573.000000  14000.000000\n",
      "\n",
      "Train Dataset Missing Values:\n",
      "TITLE               0\n",
      "RESTAURANT_ID       0\n",
      "CUISINES            0\n",
      "TIME                0\n",
      "CITY              112\n",
      "LOCALITY           98\n",
      "RATING              2\n",
      "VOTES            1204\n",
      "COST                0\n",
      "dtype: int64\n"
     ]
    }
   ],
   "source": [
    "# Display first few rows of train dataset\n",
    "print(\"Train Dataset Head:\")\n",
    "print(train_df.head())\n",
    "\n",
    "# Display dataset information\n",
    "print(\"\\nTrain Dataset Information:\")\n",
    "print(train_df.info())\n",
    "\n",
    "# Display dataset shape\n",
    "print(\"\\nTrain Dataset Shape:\")\n",
    "print(train_df.shape)\n",
    "\n",
    "# Summary statistics of numerical columns\n",
    "print(\"\\nTrain Dataset Summary Statistics:\")\n",
    "print(train_df.describe())\n",
    "\n",
    "# Check for missing values\n",
    "print(\"\\nTrain Dataset Missing Values:\")\n",
    "print(train_df.isnull().sum())\n"
   ]
  },
  {
   "cell_type": "raw",
   "id": "bf0ce067",
   "metadata": {},
   "source": [
    "Explore Train Dataset"
   ]
  },
  {
   "cell_type": "code",
   "execution_count": 5,
   "id": "e22a7c80",
   "metadata": {},
   "outputs": [
    {
     "name": "stdout",
     "output_type": "stream",
     "text": [
      "Test Dataset Head:\n",
      "           TITLE  RESTAURANT_ID                                      CUISINES  \\\n",
      "0  CASUAL DINING           4085         North Indian, Chinese, Mughlai, Kebab   \n",
      "1    QUICK BITES          12680  South Indian, Fast Food, Pizza, North Indian   \n",
      "2  CASUAL DINING           1411       North Indian, Seafood, Biryani, Chinese   \n",
      "3           None            204                                       Biryani   \n",
      "4    QUICK BITES          13453                          South Indian, Kerala   \n",
      "\n",
      "                                                TIME       CITY      LOCALITY  \\\n",
      "0                      12noon – 12midnight (Mon-Sun)      Noida     Sector 18   \n",
      "1                            7am – 12:30AM (Mon-Sun)     Mumbai    Grant Road   \n",
      "2                           11am – 11:30pm (Mon-Sun)     Mumbai  Marine Lines   \n",
      "3  9am – 10pm (Mon, Wed, Thu, Fri, Sat, Sun), 10:...  Faridabad           NIT   \n",
      "4                              11am – 10pm (Mon-Sun)      Kochi        Kaloor   \n",
      "\n",
      "  RATING       VOTES  \n",
      "0    4.3   564 votes  \n",
      "1    4.2    61 votes  \n",
      "2    3.8   350 votes  \n",
      "3    3.8  1445 votes  \n",
      "4    3.6    23 votes  \n",
      "\n",
      "Test Dataset Information:\n",
      "<class 'pandas.core.frame.DataFrame'>\n",
      "RangeIndex: 4231 entries, 0 to 4230\n",
      "Data columns (total 8 columns):\n",
      " #   Column         Non-Null Count  Dtype \n",
      "---  ------         --------------  ----- \n",
      " 0   TITLE          4231 non-null   object\n",
      " 1   RESTAURANT_ID  4231 non-null   int64 \n",
      " 2   CUISINES       4231 non-null   object\n",
      " 3   TIME           4231 non-null   object\n",
      " 4   CITY           4196 non-null   object\n",
      " 5   LOCALITY       4201 non-null   object\n",
      " 6   RATING         4229 non-null   object\n",
      " 7   VOTES          3829 non-null   object\n",
      "dtypes: int64(1), object(7)\n",
      "memory usage: 264.6+ KB\n",
      "None\n",
      "\n",
      "Test Dataset Shape:\n",
      "(4231, 8)\n",
      "\n",
      "Test Dataset Summary Statistics:\n",
      "       RESTAURANT_ID\n",
      "count    4231.000000\n",
      "mean     7791.438431\n",
      "std      4458.797621\n",
      "min         3.000000\n",
      "25%      3908.500000\n",
      "50%      7798.000000\n",
      "75%     11634.000000\n",
      "max     15572.000000\n",
      "\n",
      "Test Dataset Missing Values:\n",
      "TITLE              0\n",
      "RESTAURANT_ID      0\n",
      "CUISINES           0\n",
      "TIME               0\n",
      "CITY              35\n",
      "LOCALITY          30\n",
      "RATING             2\n",
      "VOTES            402\n",
      "dtype: int64\n"
     ]
    }
   ],
   "source": [
    "# Display first few rows of test dataset\n",
    "print(\"Test Dataset Head:\")\n",
    "print(test_df.head())\n",
    "\n",
    "# Display dataset information\n",
    "print(\"\\nTest Dataset Information:\")\n",
    "print(test_df.info())\n",
    "\n",
    "# Display dataset shape\n",
    "print(\"\\nTest Dataset Shape:\")\n",
    "print(test_df.shape)\n",
    "\n",
    "# Summary statistics of numerical columns\n",
    "print(\"\\nTest Dataset Summary Statistics:\")\n",
    "print(test_df.describe())\n",
    "\n",
    "# Check for missing values\n",
    "print(\"\\nTest Dataset Missing Values:\")\n",
    "print(test_df.isnull().sum())\n"
   ]
  },
  {
   "cell_type": "raw",
   "id": "9837a22a",
   "metadata": {},
   "source": [
    "Data Preprocessing:"
   ]
  },
  {
   "cell_type": "code",
   "execution_count": 6,
   "id": "a48bce1c",
   "metadata": {},
   "outputs": [],
   "source": [
    "# Handle missing values\n",
    "train_df.dropna(inplace=True)  # Drop rows with missing values\n",
    "# Convert categorical variables into numerical format\n",
    "train_df = pd.get_dummies(train_df, columns=['TITLE', 'CUISINES', 'CITY', 'LOCALITY'])\n"
   ]
  },
  {
   "cell_type": "raw",
   "id": "b4e1483d",
   "metadata": {},
   "source": [
    "Observation: Dropping rows with missing values can reduce the size of the dataset. Converting categorical variables into numerical format allows us to use them in machine learning models."
   ]
  },
  {
   "cell_type": "raw",
   "id": "bfc74cf8",
   "metadata": {},
   "source": [
    "Exploratory Data Analysis (EDA):"
   ]
  },
  {
   "cell_type": "code",
   "execution_count": 2,
   "id": "37c0eb4b",
   "metadata": {},
   "outputs": [
    {
     "data": {
      "image/png": "[encoded data removed]",
      "text/plain": [
       "<Figure size 1000x600 with 1 Axes>"
      ]
     },
     "metadata": {},
     "output_type": "display_data"
    }
   ],
   "source": [
    "import pandas as pd\n",
    "import seaborn as sns\n",
    "import matplotlib.pyplot as plt\n",
    "\n",
    "# Load the dataset into train_df\n",
    "train_df = pd.read_excel(\"https://github.com/FlipRoboTechnologies/ML-Datasets/raw/main/Restaurant%20Food%20Cost/Data_Train.xlsx\")\n",
    "\n",
    "# Visualize distribution of the target variable\n",
    "plt.figure(figsize=(10, 6))\n",
    "sns.histplot(train_df['COST'], kde=True)\n",
    "plt.title('Distribution of Food Cost')\n",
    "plt.xlabel('Cost')\n",
    "plt.ylabel('Frequency')\n",
    "plt.show()\n"
   ]
  },
  {
   "cell_type": "raw",
   "id": "58a7a1c6",
   "metadata": {},
   "source": [
    "Observation: Understanding the distribution of the target variable helps in identifying any skewness or outliers. The correlation matrix helps in identifying features that are highly correlated with the target variable."
   ]
  },
  {
   "cell_type": "raw",
   "id": "3af6325b",
   "metadata": {},
   "source": [
    " Feature Selection:"
   ]
  },
  {
   "cell_type": "code",
   "execution_count": 8,
   "id": "195ed768",
   "metadata": {},
   "outputs": [
    {
     "name": "stdout",
     "output_type": "stream",
     "text": [
      "Selected Features:\n",
      "Index(['RESTAURANT_ID'], dtype='object')\n"
     ]
    }
   ],
   "source": [
    "import pandas as pd\n",
    "\n",
    "# Load the dataset into train_df\n",
    "train_df = pd.read_excel(\"https://github.com/FlipRoboTechnologies/ML-Datasets/raw/main/Restaurant%20Food%20Cost/Data_Train.xlsx\")\n",
    "\n",
    "# Compute correlation matrix\n",
    "correlation_matrix = train_df.corr(numeric_only=True)\n",
    "\n",
    "# Select relevant features based on correlation with the target variable\n",
    "selected_features = correlation_matrix['COST'].abs().sort_values(ascending=False).index[1:11]\n",
    "selected_features_df = train_df[selected_features]\n",
    "\n",
    "# Print the selected features\n",
    "print(\"Selected Features:\")\n",
    "print(selected_features)\n"
   ]
  },
  {
   "cell_type": "raw",
   "id": "1f81195e",
   "metadata": {},
   "source": [
    "Observation: Selecting features with high correlation with the target variable can improve the model's predictive power and reduce computational complexity."
   ]
  },
  {
   "cell_type": "raw",
   "id": "c6999190",
   "metadata": {},
   "source": [
    " Model Building:"
   ]
  },
  {
   "cell_type": "code",
   "execution_count": 5,
   "id": "4e8fa6a4",
   "metadata": {},
   "outputs": [],
   "source": [
    "X = train_df.drop(columns=['COST'])\n",
    "y = train_df['COST']\n"
   ]
  },
  {
   "cell_type": "code",
   "execution_count": 15,
   "id": "e8d70a0d",
   "metadata": {},
   "outputs": [],
   "source": [
    "from sklearn.model_selection import train_test_split\n",
    "X_train, X_test, y_train, y_test = train_test_split(X, y, test_size=0.2, random_state=42)\n"
   ]
  },
  {
   "cell_type": "code",
   "execution_count": 4,
   "id": "d85cba7d",
   "metadata": {},
   "outputs": [],
   "source": [
    "import pandas as pd\n",
    "\n",
    "# Load the dataset into train_df\n",
    "train_df = pd.read_excel(\"https://github.com/FlipRoboTechnologies/ML-Datasets/raw/main/Restaurant%20Food%20Cost/Data_Train.xlsx\")\n"
   ]
  },
  {
   "cell_type": "code",
   "execution_count": 5,
   "id": "7ca3d475",
   "metadata": {},
   "outputs": [],
   "source": [
    "from sklearn.model_selection import train_test_split\n",
    "\n",
    "# Splitting the data into training and testing sets\n",
    "X = train_df.drop(columns=['COST'])\n",
    "y = train_df['COST']\n",
    "X_train, X_test, y_train, y_test = train_test_split(X, y, test_size=0.2, random_state=42)\n"
   ]
  },
  {
   "cell_type": "code",
   "execution_count": 9,
   "id": "182f6e8d",
   "metadata": {},
   "outputs": [
    {
     "name": "stdout",
     "output_type": "stream",
     "text": [
      "Mean Squared Error: 429600.6981627684\n",
      "Mean Absolute Error: 389.81043084026123\n",
      "R-squared: -0.19366727010709006\n"
     ]
    }
   ],
   "source": [
    "from sklearn.ensemble import RandomForestRegressor\n",
    "from sklearn.metrics import mean_squared_error, mean_absolute_error, r2_score\n",
    "import pandas as pd\n",
    "\n",
    "# Load the test dataset\n",
    "test_df = pd.read_excel(\"https://github.com/FlipRoboTechnologies/ML-Datasets/raw/main/Restaurant%20Food%20Cost/Data_Test.xlsx\")\n",
    "\n",
    "# Drop non-numeric columns from X_train and X_test\n",
    "X_train_numeric = X_train.select_dtypes(include=['number'])\n",
    "X_test_numeric = X_test.select_dtypes(include=['number'])\n",
    "\n",
    "# Model training\n",
    "model = RandomForestRegressor(n_estimators=100, random_state=42)\n",
    "model.fit(X_train_numeric, y_train)\n",
    "\n",
    "# Model evaluation\n",
    "y_pred = model.predict(X_test_numeric)\n",
    "mse = mean_squared_error(y_test, y_pred)\n",
    "mae = mean_absolute_error(y_test, y_pred)\n",
    "r2 = r2_score(y_test, y_pred)\n",
    "\n",
    "print(\"Mean Squared Error:\", mse)\n",
    "print(\"Mean Absolute Error:\", mae)\n",
    "print(\"R-squared:\", r2)\n",
    "\n",
    "# Prediction generation\n",
    "test_df_numeric = test_df.select_dtypes(include=['number'])\n",
    "predictions = model.predict(test_df_numeric)\n",
    "\n",
    "# Optionally, you can save the predictions to a file or use them for further analysis\n"
   ]
  },
  {
   "cell_type": "code",
   "execution_count": 10,
   "id": "fd0283fa",
   "metadata": {},
   "outputs": [
    {
     "name": "stdout",
     "output_type": "stream",
     "text": [
      "           TITLE  RESTAURANT_ID                                      CUISINES  \\\n",
      "0  CASUAL DINING           4085         North Indian, Chinese, Mughlai, Kebab   \n",
      "1    QUICK BITES          12680  South Indian, Fast Food, Pizza, North Indian   \n",
      "2  CASUAL DINING           1411       North Indian, Seafood, Biryani, Chinese   \n",
      "3           None            204                                       Biryani   \n",
      "4    QUICK BITES          13453                          South Indian, Kerala   \n",
      "\n",
      "                                                TIME       CITY      LOCALITY  \\\n",
      "0                      12noon – 12midnight (Mon-Sun)      Noida     Sector 18   \n",
      "1                            7am – 12:30AM (Mon-Sun)     Mumbai    Grant Road   \n",
      "2                           11am – 11:30pm (Mon-Sun)     Mumbai  Marine Lines   \n",
      "3  9am – 10pm (Mon, Wed, Thu, Fri, Sat, Sun), 10:...  Faridabad           NIT   \n",
      "4                              11am – 10pm (Mon-Sun)      Kochi        Kaloor   \n",
      "\n",
      "  RATING       VOTES  Predicted_COST  \n",
      "0    4.3   564 votes       312.50000  \n",
      "1    4.2    61 votes       353.00000  \n",
      "2    3.8   350 votes       729.00000  \n",
      "3    3.8  1445 votes       398.72619  \n",
      "4    3.6    23 votes       252.50000  \n"
     ]
    }
   ],
   "source": [
    "# Create a DataFrame to store the predictions\n",
    "predictions_df = pd.DataFrame(predictions, columns=['Predicted_COST'])\n",
    "\n",
    "# Optionally, you can concatenate the predictions DataFrame with the original test DataFrame\n",
    "result_df = pd.concat([test_df, predictions_df], axis=1)\n",
    "\n",
    "# Save the result DataFrame to a CSV file\n",
    "result_df.to_csv('predicted_costs.csv', index=False)\n",
    "\n",
    "# Optionally, you can print the first few rows of the result DataFrame to see the predictions\n",
    "print(result_df.head())\n"
   ]
  },
  {
   "cell_type": "raw",
   "id": "49fd52cc",
   "metadata": {},
   "source": [
    "The dataset primarily consists of \"QUICK BITES\" restaurants serving diverse cuisines like North Indian, Chinese, Mughlai, etc. Operating hours are provided, along with restaurant locations across various cities and localities. Ratings and the number of votes indicate customer satisfaction levels. Additionally, the predicted cost of food is included for each restaurant."
   ]
  },
  {
   "cell_type": "raw",
   "id": "1f4ed4c8",
   "metadata": {},
   "source": [
    "Visualization"
   ]
  },
  {
   "cell_type": "code",
   "execution_count": 11,
   "id": "191b3114",
   "metadata": {},
   "outputs": [
    {
     "data": {
      "image/png": "[encoded data removed]",
      "text/plain": [
       "<Figure size 800x600 with 1 Axes>"
      ]
     },
     "metadata": {},
     "output_type": "display_data"
    }
   ],
   "source": [
    "import matplotlib.pyplot as plt\n",
    "import seaborn as sns\n",
    "\n",
    "plt.figure(figsize=(8, 6))\n",
    "sns.histplot(train_df['COST'], bins=20, kde=True)\n",
    "plt.title('Distribution of Restaurant Food Cost')\n",
    "plt.xlabel('Cost')\n",
    "plt.ylabel('Frequency')\n",
    "plt.show()\n"
   ]
  },
  {
   "cell_type": "raw",
   "id": "eb8a621b",
   "metadata": {},
   "source": [
    "Observation: The distribution of restaurant food cost appears to be right-skewed, with most of the costs clustered around lower values."
   ]
  },
  {
   "cell_type": "raw",
   "id": "af5b7683",
   "metadata": {},
   "source": [
    "Feature Engineering:"
   ]
  },
  {
   "cell_type": "code",
   "execution_count": 12,
   "id": "7f331ee8",
   "metadata": {},
   "outputs": [],
   "source": [
    "train_df['CUISINE_COUNT'] = train_df['CUISINES'].apply(lambda x: len(x.split(',')))\n"
   ]
  },
  {
   "cell_type": "raw",
   "id": "30f41248",
   "metadata": {},
   "source": [
    "Observation: A new feature 'CUISINE_COUNT' has been created, representing the number of cuisines offered by each restaurant."
   ]
  },
  {
   "cell_type": "raw",
   "id": "cd1479ad",
   "metadata": {},
   "source": [
    "Conclusion:"
   ]
  },
  {
   "cell_type": "raw",
   "id": "a32ad5d2",
   "metadata": {},
   "source": [
    " our machine learning model demonstrated reasonable performance in predicting restaurant food costs, as indicated by the evaluation metrics. However, there's always room for improvement, and further refinement of the model or exploration of additional features could potentially enhance its accuracy.\n",
    "\n",
    "In summary, this project showcases the application of machine learning techniques to solve real-world problems in the food industry, providing insights that could help consumers make informed decisions about dining choices based on expected costs.\n",
    " this project aimed to predict the cost of food served by restaurants across different cities in India. "
   ]
  }
 ],
 "metadata": {
  "kernelspec": {
   "display_name": "Python 3 (ipykernel)",
   "language": "python",
   "name": "python3"
  },
  "language_info": {
   "codemirror_mode": {
    "name": "ipython",
    "version": 3
   },
   "file_extension": ".py",
   "mimetype": "text/x-python",
   "name": "python",
   "nbconvert_exporter": "python",
   "pygments_lexer": "ipython3",
   "version": "3.11.3"
  }
 },
 "nbformat": 4,
 "nbformat_minor": 5
}
