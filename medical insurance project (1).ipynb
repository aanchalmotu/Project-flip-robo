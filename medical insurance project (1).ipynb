{
 "cells": [
  {
   "cell_type": "markdown",
   "id": "3dd9dfd9",
   "metadata": {},
   "source": [
    "# Medical cost insurance project"
   ]
  },
  {
   "cell_type": "markdown",
   "id": "69e5f669",
   "metadata": {},
   "source": [
    "# Importing Libraries"
   ]
  },
  {
   "cell_type": "code",
   "execution_count": 2,
   "id": "097d2e8a",
   "metadata": {},
   "outputs": [],
   "source": [
    "import numpy as np\n",
    "import pandas as pd\n",
    "import matplotlib.pyplot as plt\n",
    "import seaborn as sns\n",
    "\n",
    "from sklearn.model_selection import train_test_split\n",
    "from sklearn.preprocessing import StandardScaler\n",
    "from sklearn.compose import ColumnTransformer\n",
    "from sklearn.pipeline import Pipeline\n",
    "from sklearn.ensemble import RandomForestRegressor\n",
    "from sklearn.metrics import mean_squared_error\n",
    "\n",
    "%matplotlib inline\n"
   ]
  },
  {
   "cell_type": "markdown",
   "id": "6a496f83",
   "metadata": {},
   "source": [
    "# #Data Loading and Exploration"
   ]
  },
  {
   "cell_type": "code",
   "execution_count": 4,
   "id": "dcd6828b",
   "metadata": {},
   "outputs": [
    {
     "name": "stdout",
     "output_type": "stream",
     "text": [
      "Data Info:\n",
      "<class 'pandas.core.frame.DataFrame'>\n",
      "RangeIndex: 1338 entries, 0 to 1337\n",
      "Data columns (total 7 columns):\n",
      " #   Column    Non-Null Count  Dtype  \n",
      "---  ------    --------------  -----  \n",
      " 0   age       1338 non-null   int64  \n",
      " 1   sex       1338 non-null   object \n",
      " 2   bmi       1338 non-null   float64\n",
      " 3   children  1338 non-null   int64  \n",
      " 4   smoker    1338 non-null   object \n",
      " 5   region    1338 non-null   object \n",
      " 6   charges   1338 non-null   float64\n",
      "dtypes: float64(2), int64(2), object(3)\n",
      "memory usage: 73.3+ KB\n",
      "None\n",
      "\n",
      "Data Description:\n",
      "               age          bmi     children       charges\n",
      "count  1338.000000  1338.000000  1338.000000   1338.000000\n",
      "mean     39.207025    30.663397     1.094918  13270.422265\n",
      "std      14.049960     6.098187     1.205493  12110.011237\n",
      "min      18.000000    15.960000     0.000000   1121.873900\n",
      "25%      27.000000    26.296250     0.000000   4740.287150\n",
      "50%      39.000000    30.400000     1.000000   9382.033000\n",
      "75%      51.000000    34.693750     2.000000  16639.912515\n",
      "max      64.000000    53.130000     5.000000  63770.428010\n",
      "\n",
      "First few rows of the data:\n",
      "   age     sex     bmi  children smoker     region      charges\n",
      "0   19  female  27.900         0    yes  southwest  16884.92400\n",
      "1   18    male  33.770         1     no  southeast   1725.55230\n",
      "2   28    male  33.000         3     no  southeast   4449.46200\n",
      "3   33    male  22.705         0     no  northwest  21984.47061\n",
      "4   32    male  28.880         0     no  northwest   3866.85520\n"
     ]
    }
   ],
   "source": [
    "import pandas as pd\n",
    "\n",
    "# Load the data\n",
    "data = pd.read_csv(\"https://raw.githubusercontent.com/FlipRoboTechnologies/ML-Datasets/main/Medical%20Cost%20Insurance/medical_cost_insurance.csv\")\n",
    "\n",
    "# Explore the dataset\n",
    "print(\"Data Info:\")\n",
    "print(data.info())\n",
    "print(\"\\nData Description:\")\n",
    "print(data.describe())\n",
    "print(\"\\nFirst few rows of the data:\")\n",
    "print(data.head())\n"
   ]
  },
  {
   "cell_type": "markdown",
   "id": "d321abfb",
   "metadata": {},
   "source": [
    "# Based on the output provided for Step 1, here are the observations and analysis:\n",
    "\n",
    "# Data Info:\n",
    "The dataset contains 1338 entries (rows) and 7 columns.\n",
    "There are no missing values in any of the columns (all columns have 1338 non-null entries).\n",
    "The data types of the columns include integers (int64), floating-point numbers (float64), and objects (object).\n",
    "\n",
    "# Data Description:\n",
    "The age, bmi, children, and charges columns have numerical data types.\n",
    "The age column ranges from 18 to 64 years, with a mean age of approximately 39 years.\n",
    "The bmi (Body Mass Index) column ranges from 15.96 to 53.13, with a mean BMI of approximately 30.66.\n",
    "The children column represents the number of children covered by health insurance, ranging from 0 to 5, with an average of approximately 1.09 children per individual.\n",
    "The charges column represents individual medical costs billed by health insurance, ranging from $1121.87 to $63770.43, with a mean charge of approximately $13270.42.\n",
    "These statistics provide an overview of the distribution of numerical features in the dataset, including measures of central tendency and spread.\n",
    "\n",
    "# First Few Rows of the Data:\n",
    "The first few rows of the dataset show a sample of individual records, including information such as age, sex, BMI, number of children, smoker status, region, and charges.\n",
    "This allows for a quick glimpse into the structure and content of the dataset, providing insight into the types of data present and their formatting."
   ]
  },
  {
   "cell_type": "markdown",
   "id": "c830218a",
   "metadata": {},
   "source": [
    "# Data Preprocessing. "
   ]
  },
  {
   "cell_type": "code",
   "execution_count": 7,
   "id": "c5f52680",
   "metadata": {},
   "outputs": [],
   "source": [
    "\n",
    "# Handle missing data\n",
    "data.dropna(inplace=True)  # Assuming there are no missing values in the provided data\n",
    "\n",
    "# Convert categorical variables into numerical format using one-hot encoding\n",
    "data_encoded = pd.get_dummies(data, columns=[\"sex\", \"smoker\", \"region\"], drop_first=True)\n",
    "\n",
    "# Split the data into features (X) and target (y)\n",
    "X = data_encoded.drop(\"charges\", axis=1)\n",
    "y = data_encoded[\"charges\"]\n"
   ]
  },
  {
   "cell_type": "code",
   "execution_count": 8,
   "id": "d70e7205",
   "metadata": {},
   "outputs": [
    {
     "name": "stdout",
     "output_type": "stream",
     "text": [
      "   age     bmi  children  sex_male  smoker_yes  region_northwest  \\\n",
      "0   19  27.900         0         0           1                 0   \n",
      "1   18  33.770         1         1           0                 0   \n",
      "2   28  33.000         3         1           0                 0   \n",
      "3   33  22.705         0         1           0                 1   \n",
      "4   32  28.880         0         1           0                 1   \n",
      "\n",
      "   region_southeast  region_southwest  \n",
      "0                 0                 1  \n",
      "1                 1                 0  \n",
      "2                 1                 0  \n",
      "3                 0                 0  \n",
      "4                 0                 0  \n",
      "0    16884.92400\n",
      "1     1725.55230\n",
      "2     4449.46200\n",
      "3    21984.47061\n",
      "4     3866.85520\n",
      "Name: charges, dtype: float64\n"
     ]
    }
   ],
   "source": [
    "print(X.head()) \n",
    "print(y.head())  "
   ]
  },
  {
   "cell_type": "raw",
   "id": "8c16de54",
   "metadata": {},
   "source": [
    "Features (X):\n",
    "Encoded categorical variables and original numerical features.\n",
    "Each row represents an individual's attributes.\n",
    "Target Variable (y):\n",
    "Contains individual medical costs (charges) billed by health insurance.\n",
    "Each value represents insurance charges for the corresponding individual."
   ]
  },
  {
   "cell_type": "code",
   "execution_count": 9,
   "id": "b46a65d6",
   "metadata": {},
   "outputs": [
    {
     "name": "stdout",
     "output_type": "stream",
     "text": [
      "age                   int64\n",
      "bmi                 float64\n",
      "children              int64\n",
      "sex_male              uint8\n",
      "smoker_yes            uint8\n",
      "region_northwest      uint8\n",
      "region_southeast      uint8\n",
      "region_southwest      uint8\n",
      "dtype: object\n",
      "float64\n"
     ]
    }
   ],
   "source": [
    "print(X.dtypes)  \n",
    "print(y.dtypes)  "
   ]
  },
  {
   "cell_type": "raw",
   "id": "0d0c1d69",
   "metadata": {},
   "source": [
    "features (X):\n",
    "Integer features (age, children) are represented as int64.\n",
    "Float features (bmi) are represented as float64.\n",
    "Encoded categorical features are represented as uint8.\n",
    "Target Variable (y):\n",
    "The target variable is represented as float64."
   ]
  },
  {
   "cell_type": "code",
   "execution_count": 10,
   "id": "9560872a",
   "metadata": {},
   "outputs": [
    {
     "name": "stdout",
     "output_type": "stream",
     "text": [
      "(1338, 8)\n",
      "(1338,)\n"
     ]
    }
   ],
   "source": [
    "print(X.shape)\n",
    "print(y.shape)  \n"
   ]
  },
  {
   "cell_type": "raw",
   "id": "a0cd69c3",
   "metadata": {},
   "source": [
    "Features (X):\n",
    "The feature matrix (X) has dimensions (1338, 8), indicating 1338 samples and 8 features.\n",
    "Target Variable (y):\n",
    "The target vector (y) has dimensions (1338,), indicating 1338 samples.\n",
    "These dimensions confirm that the feature matrix (X) contains the expected number of samples and features, while the target vector (y) contains the expected number of samples. This indicates that the data has been correctly split into features and target variable, ready for further analysis and modelin# "
   ]
  },
  {
   "cell_type": "markdown",
   "id": "284b867c",
   "metadata": {},
   "source": [
    "# Train-Test Split"
   ]
  },
  {
   "cell_type": "code",
   "execution_count": 11,
   "id": "e6dbb978",
   "metadata": {},
   "outputs": [],
   "source": [
    "# Step 3: Train-Test Split\n",
    "from sklearn.model_selection import train_test_split\n",
    "\n",
    "# Split the data into training and testing sets\n",
    "X_train, X_test, y_train, y_test = train_test_split(X, y, test_size=0.2, random_state=42)\n"
   ]
  },
  {
   "cell_type": "code",
   "execution_count": 12,
   "id": "7fd4ff7c",
   "metadata": {},
   "outputs": [
    {
     "name": "stdout",
     "output_type": "stream",
     "text": [
      "Training set - X: (1070, 8) y: (1070,)\n",
      "Testing set - X: (268, 8) y: (268,)\n"
     ]
    }
   ],
   "source": [
    "print(\"Training set - X:\", X_train.shape, \"y:\", y_train.shape)\n",
    "print(\"Testing set - X:\", X_test.shape, \"y:\", y_test.shape)\n"
   ]
  },
  {
   "cell_type": "raw",
   "id": "9bfcef20",
   "metadata": {},
   "source": [
    "Training Set :\n",
    "The training set consists of 1070 samples (rows) and 8 features (columns).\n",
    "Each row in X_train represents an individual's attributes, while each value in y_train represents the corresponding insurance charges.\n",
    "This set will be used to train the machine learning model.\n",
    "Testing Set :\n",
    "The testing set consists of 268 samples (rows) and 8 features (columns).\n",
    "Each row in X_test represents an individual's attributes, while each value in y_test represents the corresponding insurance charges.\n",
    "This set will be used to evaluate the performance of the trained model.\n",
    "This observation confirms that the train-test split was successful, with 80% of the data allocated to the training set and 20% allocated to the testing set. The split data is now ready for model training and evaluation."
   ]
  },
  {
   "cell_type": "markdown",
   "id": "f1d4d39f",
   "metadata": {},
   "source": [
    "# Feature Scaling"
   ]
  },
  {
   "cell_type": "code",
   "execution_count": 13,
   "id": "705b2085",
   "metadata": {},
   "outputs": [],
   "source": [
    "from sklearn.preprocessing import StandardScaler\n",
    "from sklearn.compose import ColumnTransformer\n",
    "from sklearn.pipeline import Pipeline\n",
    "\n",
    "# Define the numerical features to be scaled\n",
    "numeric_features = [\"age\", \"bmi\", \"children\"]\n",
    "\n",
    "# Create a preprocessor pipeline for feature scaling\n",
    "numeric_transformer = Pipeline(steps=[(\"scaler\", StandardScaler())])\n",
    "\n",
    "# Apply feature scaling to numerical features\n",
    "preprocessor = ColumnTransformer(transformers=[(\"num\", numeric_transformer, numeric_features)])\n",
    "\n",
    "# Apply the preprocessor to training and testing sets\n",
    "X_train_scaled = preprocessor.fit_transform(X_train)\n",
    "X_test_scaled = preprocessor.transform(X_test)\n"
   ]
  },
  {
   "cell_type": "code",
   "execution_count": 18,
   "id": "31a46d65",
   "metadata": {},
   "outputs": [
    {
     "name": "stdout",
     "output_type": "stream",
     "text": [
      "<class 'numpy.ndarray'>\n",
      "<class 'numpy.ndarray'>\n"
     ]
    }
   ],
   "source": [
    "print(type(X_train_scaled))\n",
    "print(type(X_test_scaled))\n"
   ]
  },
  {
   "cell_type": "code",
   "execution_count": 19,
   "id": "302e72ce",
   "metadata": {},
   "outputs": [
    {
     "name": "stdout",
     "output_type": "stream",
     "text": [
      "Index(['age', 'bmi', 'children', 'sex_male', 'smoker_yes', 'region_northwest',\n",
      "       'region_southeast', 'region_southwest'],\n",
      "      dtype='object')\n"
     ]
    }
   ],
   "source": [
    "print(X.columns)\n"
   ]
  },
  {
   "cell_type": "raw",
   "id": "ea92f5a6",
   "metadata": {},
   "source": [
    "These columns represent different attributes such as age, BMI, number of children, gender (encoded as male), smoker status (encoded as yes), and regions (encoded as northwest, southeast, southwest).\n",
    "This output confirms that the feature scaling step has been performed successfully, and the features are now scaled and ready for further analysis and modeling. If you have any specific questions or need further assistance, feel free to ask!"
   ]
  },
  {
   "cell_type": "markdown",
   "id": "0acd4b68",
   "metadata": {},
   "source": [
    "# Model Selection and Training"
   ]
  },
  {
   "cell_type": "code",
   "execution_count": 21,
   "id": "ba91f8bd",
   "metadata": {},
   "outputs": [
    {
     "data": {
      "text/html": [
       "<style>#sk-container-id-1 {color: black;background-color: white;}#sk-container-id-1 pre{padding: 0;}#sk-container-id-1 div.sk-toggleable {background-color: white;}#sk-container-id-1 label.sk-toggleable__label {cursor: pointer;display: block;width: 100%;margin-bottom: 0;padding: 0.3em;box-sizing: border-box;text-align: center;}#sk-container-id-1 label.sk-toggleable__label-arrow:before {content: \"▸\";float: left;margin-right: 0.25em;color: #696969;}#sk-container-id-1 label.sk-toggleable__label-arrow:hover:before {color: black;}#sk-container-id-1 div.sk-estimator:hover label.sk-toggleable__label-arrow:before {color: black;}#sk-container-id-1 div.sk-toggleable__content {max-height: 0;max-width: 0;overflow: hidden;text-align: left;background-color: #f0f8ff;}#sk-container-id-1 div.sk-toggleable__content pre {margin: 0.2em;color: black;border-radius: 0.25em;background-color: #f0f8ff;}#sk-container-id-1 input.sk-toggleable__control:checked~div.sk-toggleable__content {max-height: 200px;max-width: 100%;overflow: auto;}#sk-container-id-1 input.sk-toggleable__control:checked~label.sk-toggleable__label-arrow:before {content: \"▾\";}#sk-container-id-1 div.sk-estimator input.sk-toggleable__control:checked~label.sk-toggleable__label {background-color: #d4ebff;}#sk-container-id-1 div.sk-label input.sk-toggleable__control:checked~label.sk-toggleable__label {background-color: #d4ebff;}#sk-container-id-1 input.sk-hidden--visually {border: 0;clip: rect(1px 1px 1px 1px);clip: rect(1px, 1px, 1px, 1px);height: 1px;margin: -1px;overflow: hidden;padding: 0;position: absolute;width: 1px;}#sk-container-id-1 div.sk-estimator {font-family: monospace;background-color: #f0f8ff;border: 1px dotted black;border-radius: 0.25em;box-sizing: border-box;margin-bottom: 0.5em;}#sk-container-id-1 div.sk-estimator:hover {background-color: #d4ebff;}#sk-container-id-1 div.sk-parallel-item::after {content: \"\";width: 100%;border-bottom: 1px solid gray;flex-grow: 1;}#sk-container-id-1 div.sk-label:hover label.sk-toggleable__label {background-color: #d4ebff;}#sk-container-id-1 div.sk-serial::before {content: \"\";position: absolute;border-left: 1px solid gray;box-sizing: border-box;top: 0;bottom: 0;left: 50%;z-index: 0;}#sk-container-id-1 div.sk-serial {display: flex;flex-direction: column;align-items: center;background-color: white;padding-right: 0.2em;padding-left: 0.2em;position: relative;}#sk-container-id-1 div.sk-item {position: relative;z-index: 1;}#sk-container-id-1 div.sk-parallel {display: flex;align-items: stretch;justify-content: center;background-color: white;position: relative;}#sk-container-id-1 div.sk-item::before, #sk-container-id-1 div.sk-parallel-item::before {content: \"\";position: absolute;border-left: 1px solid gray;box-sizing: border-box;top: 0;bottom: 0;left: 50%;z-index: -1;}#sk-container-id-1 div.sk-parallel-item {display: flex;flex-direction: column;z-index: 1;position: relative;background-color: white;}#sk-container-id-1 div.sk-parallel-item:first-child::after {align-self: flex-end;width: 50%;}#sk-container-id-1 div.sk-parallel-item:last-child::after {align-self: flex-start;width: 50%;}#sk-container-id-1 div.sk-parallel-item:only-child::after {width: 0;}#sk-container-id-1 div.sk-dashed-wrapped {border: 1px dashed gray;margin: 0 0.4em 0.5em 0.4em;box-sizing: border-box;padding-bottom: 0.4em;background-color: white;}#sk-container-id-1 div.sk-label label {font-family: monospace;font-weight: bold;display: inline-block;line-height: 1.2em;}#sk-container-id-1 div.sk-label-container {text-align: center;}#sk-container-id-1 div.sk-container {/* jupyter's `normalize.less` sets `[hidden] { display: none; }` but bootstrap.min.css set `[hidden] { display: none !important; }` so we also need the `!important` here to be able to override the default hidden behavior on the sphinx rendered scikit-learn.org. See: https://github.com/scikit-learn/scikit-learn/issues/21755 */display: inline-block !important;position: relative;}#sk-container-id-1 div.sk-text-repr-fallback {display: none;}</style><div id=\"sk-container-id-1\" class=\"sk-top-container\"><div class=\"sk-text-repr-fallback\"><pre>RandomForestRegressor(random_state=42)</pre><b>In a Jupyter environment, please rerun this cell to show the HTML representation or trust the notebook. <br />On GitHub, the HTML representation is unable to render, please try loading this page with nbviewer.org.</b></div><div class=\"sk-container\" hidden><div class=\"sk-item\"><div class=\"sk-estimator sk-toggleable\"><input class=\"sk-toggleable__control sk-hidden--visually\" id=\"sk-estimator-id-1\" type=\"checkbox\" checked><label for=\"sk-estimator-id-1\" class=\"sk-toggleable__label sk-toggleable__label-arrow\">RandomForestRegressor</label><div class=\"sk-toggleable__content\"><pre>RandomForestRegressor(random_state=42)</pre></div></div></div></div></div>"
      ],
      "text/plain": [
       "RandomForestRegressor(random_state=42)"
      ]
     },
     "execution_count": 21,
     "metadata": {},
     "output_type": "execute_result"
    }
   ],
   "source": [
    "from sklearn.ensemble import RandomForestRegressor\n",
    "\n",
    "# Define the regression model (Random Forest Regressor)\n",
    "model = RandomForestRegressor(n_estimators=100, random_state=42)\n",
    "\n",
    "# Train the model on the scaled training data\n",
    "model.fit(X_train_scaled, y_train)\n"
   ]
  },
  {
   "cell_type": "raw",
   "id": "9f20e7ca",
   "metadata": {},
   "source": [
    "Random Forest Regressor:\n",
    "Chosen model: Random Forest Regressor.\n",
    "Parameters: n_estimators=100, random_state=42.\n",
    "Training:\n",
    "Model trained on scaled training data.\n",
    "This step indicates that the Random Forest Regressor model with 100 estimators and a random state of 42 was chosen and successfully trained on the scaled training data.\n",
    "\n",
    "\n"
   ]
  },
  {
   "cell_type": "markdown",
   "id": "8a69ff5d",
   "metadata": {},
   "source": [
    "# Model Evaluation"
   ]
  },
  {
   "cell_type": "code",
   "execution_count": 22,
   "id": "e0de7aea",
   "metadata": {},
   "outputs": [
    {
     "name": "stdout",
     "output_type": "stream",
     "text": [
      "Mean Squared Error: 157761148.90860045\n"
     ]
    }
   ],
   "source": [
    "from sklearn.metrics import mean_squared_error\n",
    "\n",
    "# Make predictions on the testing set\n",
    "y_pred = model.predict(X_test_scaled)\n",
    "\n",
    "# Evaluate the model using Mean Squared Error (MSE)\n",
    "mse = mean_squared_error(y_test, y_pred)\n",
    "print(\"Mean Squared Error:\", mse)\n"
   ]
  },
  {
   "cell_type": "raw",
   "id": "0cc71948",
   "metadata": {},
   "source": [
    "The Mean Squared Error of the model on the testing set is approximately 157,761,148.91.\n",
    "MSE measures the average squared difference between the predicted values and the actual values.\n",
    "A lower MSE indicates better model performance, as it means the model's predictions are closer to the actual values.\n",
    "This observation indicates the performance of the trained model on the testing data, with a relatively high MS"
   ]
  },
  {
   "cell_type": "markdown",
   "id": "eb614464",
   "metadata": {},
   "source": [
    "# Prediction."
   ]
  },
  {
   "cell_type": "code",
   "execution_count": 23,
   "id": "146684ff",
   "metadata": {},
   "outputs": [
    {
     "name": "stdout",
     "output_type": "stream",
     "text": [
      "Predictions for new data points:\n",
      "[ 8456.589677  14468.4396015]\n"
     ]
    }
   ],
   "source": [
    "# Assuming you have new data points for prediction\n",
    "new_data = pd.DataFrame({\n",
    "    \"age\": [30, 40],\n",
    "    \"sex_male\": [1, 0],  # Assuming male and female\n",
    "    \"bmi\": [25.5, 30.0],\n",
    "    \"children\": [2, 1],\n",
    "    \"smoker_yes\": [0, 1],  # Assuming non-smoker and smoker\n",
    "    \"region_northwest\": [1, 0],  # Assuming different regions\n",
    "    \"region_southeast\": [0, 1],\n",
    "    \"region_southwest\": [0, 0]  # Assuming only two regions for simplicity\n",
    "})\n",
    "\n",
    "# Apply the preprocessor to the new data\n",
    "new_data_scaled = preprocessor.transform(new_data)\n",
    "\n",
    "# Make predictions on the new data points\n",
    "predictions = model.predict(new_data_scaled)\n",
    "\n",
    "print(\"Predictions for new data points:\")\n",
    "print(predictions)\n"
   ]
  },
  {
   "cell_type": "raw",
   "id": "2d7b0906",
   "metadata": {},
   "source": [
    "For the provided new data points, the model predicts insurance charges as follows:\n",
    "For the first data point: Predicted insurance charge is approximately $8,456.59.\n",
    "For the second data point: Predicted insurance charge is approximately $14,468.44.\n",
    "These predictions represent the estimated insurance charges for the respective individuals based on their attributes."
   ]
  },
  {
   "cell_type": "markdown",
   "id": "8d432375",
   "metadata": {},
   "source": [
    "# \n",
    "Conclusion:\n",
    "\n",
    "In this project, we aimed to predict medical insurance costs using a dataset containing information about individuals' age, BMI, number of children, gender, smoking status, and region. After performing data exploration, preprocessing, feature engineering, model selection, and evaluation, we successfully trained a Random Forest Regressor model to predict insurance charges.\n",
    "\n",
    "The model achieved a Mean Squared Error of approximately 157,761,148.91 on the testing set, indicating the average squared difference between the predicted and actual insurance charges. While this performance may be acceptable for initial predictions, further refinement and tuning of the model could potentially improve its accuracy."
   ]
  },
  {
   "cell_type": "code",
   "execution_count": null,
   "id": "57c61fb9",
   "metadata": {},
   "outputs": [],
   "source": []
  }
 ],
 "metadata": {
  "kernelspec": {
   "display_name": "Python 3 (ipykernel)",
   "language": "python",
   "name": "python3"
  },
  "language_info": {
   "codemirror_mode": {
    "name": "ipython",
    "version": 3
   },
   "file_extension": ".py",
   "mimetype": "text/x-python",
   "name": "python",
   "nbconvert_exporter": "python",
   "pygments_lexer": "ipython3",
   "version": "3.11.3"
  }
 },
 "nbformat": 4,
 "nbformat_minor": 5
}
